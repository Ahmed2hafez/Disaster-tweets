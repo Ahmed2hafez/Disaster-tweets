{
 "cells": [
  {
   "cell_type": "code",
   "execution_count": 1,
   "id": "85c9050e-2e22-4f8d-bf75-8fba113c7d06",
   "metadata": {},
   "outputs": [],
   "source": [
    "import numpy as np\n",
    "import pandas as pd\n",
    "import seaborn as sns\n",
    "import matplotlib.pyplot as plt"
   ]
  },
  {
   "cell_type": "markdown",
   "id": "37c19f9d-bfa4-4c07-886a-e23d9b408638",
   "metadata": {},
   "source": [
    "# 1- Loading Data"
   ]
  },
  {
   "cell_type": "code",
   "execution_count": 2,
   "id": "9b9a6919-f132-4cd7-ac40-9b8784a2e0d8",
   "metadata": {},
   "outputs": [
    {
     "data": {
      "text/html": [
       "<div>\n",
       "<style scoped>\n",
       "    .dataframe tbody tr th:only-of-type {\n",
       "        vertical-align: middle;\n",
       "    }\n",
       "\n",
       "    .dataframe tbody tr th {\n",
       "        vertical-align: top;\n",
       "    }\n",
       "\n",
       "    .dataframe thead th {\n",
       "        text-align: right;\n",
       "    }\n",
       "</style>\n",
       "<table border=\"1\" class=\"dataframe\">\n",
       "  <thead>\n",
       "    <tr style=\"text-align: right;\">\n",
       "      <th></th>\n",
       "      <th>id</th>\n",
       "      <th>keyword</th>\n",
       "      <th>location</th>\n",
       "      <th>text</th>\n",
       "      <th>target</th>\n",
       "    </tr>\n",
       "  </thead>\n",
       "  <tbody>\n",
       "    <tr>\n",
       "      <th>0</th>\n",
       "      <td>1</td>\n",
       "      <td>NaN</td>\n",
       "      <td>NaN</td>\n",
       "      <td>Our Deeds are the Reason of this #earthquake May ALLAH Forgive us all</td>\n",
       "      <td>1</td>\n",
       "    </tr>\n",
       "    <tr>\n",
       "      <th>1</th>\n",
       "      <td>4</td>\n",
       "      <td>NaN</td>\n",
       "      <td>NaN</td>\n",
       "      <td>Forest fire near La Ronge Sask. Canada</td>\n",
       "      <td>1</td>\n",
       "    </tr>\n",
       "    <tr>\n",
       "      <th>2</th>\n",
       "      <td>5</td>\n",
       "      <td>NaN</td>\n",
       "      <td>NaN</td>\n",
       "      <td>All residents asked to 'shelter in place' are being notified by officers. No other evacuation or shelter in place orders are expected</td>\n",
       "      <td>1</td>\n",
       "    </tr>\n",
       "    <tr>\n",
       "      <th>3</th>\n",
       "      <td>6</td>\n",
       "      <td>NaN</td>\n",
       "      <td>NaN</td>\n",
       "      <td>13,000 people receive #wildfires evacuation orders in California</td>\n",
       "      <td>1</td>\n",
       "    </tr>\n",
       "    <tr>\n",
       "      <th>4</th>\n",
       "      <td>7</td>\n",
       "      <td>NaN</td>\n",
       "      <td>NaN</td>\n",
       "      <td>Just got sent this photo from Ruby #Alaska as smoke from #wildfires pours into a school</td>\n",
       "      <td>1</td>\n",
       "    </tr>\n",
       "  </tbody>\n",
       "</table>\n",
       "</div>"
      ],
      "text/plain": [
       "   id keyword location  \\\n",
       "0   1     NaN      NaN   \n",
       "1   4     NaN      NaN   \n",
       "2   5     NaN      NaN   \n",
       "3   6     NaN      NaN   \n",
       "4   7     NaN      NaN   \n",
       "\n",
       "                                                                                                                                    text  \\\n",
       "0                                                                  Our Deeds are the Reason of this #earthquake May ALLAH Forgive us all   \n",
       "1                                                                                                 Forest fire near La Ronge Sask. Canada   \n",
       "2  All residents asked to 'shelter in place' are being notified by officers. No other evacuation or shelter in place orders are expected   \n",
       "3                                                                      13,000 people receive #wildfires evacuation orders in California    \n",
       "4                                               Just got sent this photo from Ruby #Alaska as smoke from #wildfires pours into a school    \n",
       "\n",
       "   target  \n",
       "0       1  \n",
       "1       1  \n",
       "2       1  \n",
       "3       1  \n",
       "4       1  "
      ]
     },
     "execution_count": 2,
     "metadata": {},
     "output_type": "execute_result"
    }
   ],
   "source": [
    "filepath=\"../project/data/\"\n",
    "data = pd.read_csv(f\"{filepath}train.csv\")\n",
    "pd.set_option('display.max_colwidth', None)\n",
    "data.head()"
   ]
  },
  {
   "cell_type": "markdown",
   "id": "0d1dfccd-9386-41ef-860b-5ff8bda049fc",
   "metadata": {},
   "source": [
    "# 2- Dataset information"
   ]
  },
  {
   "cell_type": "code",
   "execution_count": 3,
   "id": "f7159f0c-0ed8-4f54-9795-7b2d087efcc7",
   "metadata": {},
   "outputs": [
    {
     "name": "stdout",
     "output_type": "stream",
     "text": [
      "\n",
      "Training set information:\n",
      "---------\n"
     ]
    },
    {
     "data": {
      "image/png": "[encoded data removed]",
      "text/plain": [
       "<Figure size 432x288 with 1 Axes>"
      ]
     },
     "metadata": {
      "needs_background": "light"
     },
     "output_type": "display_data"
    },
    {
     "name": "stdout",
     "output_type": "stream",
     "text": [
      "Input data has 7613 rows and, 5 column\n",
      "\n",
      "Proportion of samples with label 1 (ie A real disaster tweet): 42.97 %\n",
      "Proportion of samples with label 0 (ie Not a real disaster tweet): 57.03 %\n",
      "\n",
      "Number of Missing Tweets = 0\n",
      "Number of Missing Targets = 0\n"
     ]
    }
   ],
   "source": [
    "print(\"\\nTraining set information:\")\n",
    "print(\"---------\")\n",
    "sns.countplot(x=\"target\", data=data)\n",
    "plt.show()\n",
    "\n",
    "print(f'Input data has {len(data)} rows and, {len(data.columns)} column\\n')\n",
    "\n",
    "print(\"Proportion of samples with label 1 (ie A real disaster tweet):\", np.round(data[\"target\"].sum()/len(data)*100,2), \"%\")\n",
    "print(\"Proportion of samples with label 0 (ie Not a real disaster tweet):\", np.round((1-data[\"target\"].sum()/len(data))*100,2),\"%\\n\")\n",
    "\n",
    "\n",
    "print(f'Number of Missing Tweets = {data[\"text\"].isnull().sum()}')\n",
    "print(f'Number of Missing Targets = {data[\"target\"].isnull().sum()}')"
   ]
  },
  {
   "cell_type": "markdown",
   "id": "4a0e05bf",
   "metadata": {},
   "source": [
    "# Resample Data"
   ]
  },
  {
   "cell_type": "code",
   "execution_count": 4,
   "id": "b30522c1",
   "metadata": {},
   "outputs": [],
   "source": [
    "from sklearn.utils import resample\n",
    "#create two different dataframe of majority and minority class \n",
    "df_majority = data[(data['target']==1)] \n",
    "df_minority = data[(data['target']==0)] \n",
    "# upsample minority class\n",
    "df_minority_upsampled = resample(df_minority, \n",
    "                                 replace=True,    # sample with replacement\n",
    "                                 n_samples= 3300, # to match majority class\n",
    "                                 random_state=42)  # reproducible results\n",
    "# Combine majority class with upsampled minority class\n",
    "df_upsampled = pd.concat([df_minority_upsampled, df_majority])"
   ]
  },
  {
   "cell_type": "code",
   "execution_count": 5,
   "id": "e7e5f455",
   "metadata": {},
   "outputs": [
    {
     "name": "stdout",
     "output_type": "stream",
     "text": [
      "-->Show value counts for each class \n"
     ]
    },
    {
     "data": {
      "image/png": "[encoded data removed]",
      "text/plain": [
       "<Figure size 432x288 with 1 Axes>"
      ]
     },
     "metadata": {
      "needs_background": "light"
     },
     "output_type": "display_data"
    },
    {
     "name": "stdout",
     "output_type": "stream",
     "text": [
      "Input data has 6571 rows and, 5 column\n",
      "\n",
      "Proportion of samples with label 1 (ie A real disaster tweet): 49.78 %\n",
      "Proportion of samples with label 0 (ie Not a real disaster tweet): 50.22 %\n",
      "\n",
      "Number of Missing Tweets = 0\n",
      "Number of Missing Targets = 0\n"
     ]
    }
   ],
   "source": [
    "print(\"-->Show value counts for each class \")\n",
    "sns.countplot(x=\"target\", data=df_upsampled)#Show the counts of observations in each class bin using bars.\n",
    "plt.show()#if i remove this line the histogram  will appeare in final \n",
    "\n",
    "\n",
    "print(f'Input data has {len(df_upsampled)} rows and, {len(df_upsampled.columns)} column\\n')\n",
    "\n",
    "print(\"Proportion of samples with label 1 (ie A real disaster tweet):\", np.round(df_upsampled[\"target\"].sum()/len(df_upsampled)*100,2), \"%\")\n",
    "print(\"Proportion of samples with label 0 (ie Not a real disaster tweet):\", np.round((1-df_upsampled[\"target\"].sum()/len(df_upsampled))*100,2),\"%\\n\")\n",
    "\n",
    "\n",
    "print(f'Number of Missing Tweets = {df_upsampled[\"text\"].isnull().sum()}')\n",
    "print(f'Number of Missing Targets = {df_upsampled[\"target\"].isnull().sum()}')"
   ]
  },
  {
   "cell_type": "markdown",
   "id": "86815d26-2c1d-41d4-9006-91317d7e1b99",
   "metadata": {},
   "source": [
    "# 3- Dataset Cleaning\n",
    "As the text in these samples are tweets, there may be twitter handles or hashtags that are nonsense, but some handles for example could be for an emergency service account which can help us in our prediction. There also may be links in a tweet, which will not be as helpful and we can remove. \n",
    "\n",
    "The function will \n",
    "* remove the @ and # of handles and hashtags\n",
    "* set text to lowercase\n",
    "* remove html characters\n",
    "* remove Emails ex. sebaiy@gmail.com\n",
    "* convert apostrophe contractions to their full counterparts ex. i'm ==> i am\n",
    "* remove hyperlinks\n",
    "* remove stopwords\n",
    "* remove punctuation \n",
    "* remove weird quirks from tweets such as \"û_\" and \"vÌ_deo\""
   ]
  },
  {
   "cell_type": "code",
   "execution_count": 6,
   "id": "0bd1616d-9030-4afc-aa15-64233be6ec21",
   "metadata": {},
   "outputs": [],
   "source": [
    "import html\n",
    "import re\n",
    "import nltk\n",
    "#nltk.download(\"stopwords\")\n",
    "#nltk.download(\"punkt\")\n",
    "from nltk.corpus import stopwords\n",
    "from nltk.tokenize import WhitespaceTokenizer\n",
    "from nltk.stem import WordNetLemmatizer\n",
    "from wordcloud import ImageColorGenerator\n",
    "import string"
   ]
  },
  {
   "cell_type": "code",
   "execution_count": 7,
   "id": "28bb6d28-3f79-465f-9235-004ea9b09a93",
   "metadata": {},
   "outputs": [],
   "source": [
    "stop_words = set(stopwords.words('english'))\n",
    "\n",
    "wnl = WordNetLemmatizer()  \n",
    "set(string.punctuation)\n",
    "stop_words.add('u')\n",
    "\n",
    "Apos_dict={\"'s\":\" is\",\"won't\":\"will not\", \"can't\":\"cannot\",\"n't\":\" not\",\"'m\":\" am\",\"'ll\":\" will\",\n",
    "           \"'d\":\" would\",\"'ve\":\" have\",\"'re\":\" are\"}\n",
    "\n",
    "def clean_text(text):\n",
    "    \n",
    "    text=text.lower()\n",
    "    \n",
    "    text=html.unescape(text) # remove html tag words\n",
    "    \n",
    "    for key,value in Apos_dict.items(): # remove contractions\n",
    "        if key in text:\n",
    "            text = text.replace(key,value)\n",
    "\n",
    "    text=re.sub(r\"\\b[A-Za-z0-9._%+-]+@[A-Za-z0-9.-]+\\.[A-Za-z]{1,4}\\b\", \"\", text) #emails like (sebaiy.mohamed@gmail.com)\n",
    "    \n",
    "    text=re.sub(r\"[À-ÿ]+\", \"\", text) #remove sympols like ([À, Ç, Ë,.., ÿ)\n",
    "    \n",
    "    text=re.sub(r'https?:\\/\\/.\\S+', \"\",text)    # remove links\n",
    "    \n",
    "    text=re.sub(r'\\S*û_*\\S*|@\\w*|#\\w*', \"\",text) # remove u_, handles and just the hashtag froms hashtags\n",
    "    \n",
    "    text=re.sub(r'[0-9]', \"\", text) #remove numbers\n",
    "\n",
    "    text=re.sub(r'[^\\w\\s]', \"\",text)# remove any character not in the set [^] ie punctuation, can add # | @ here\n",
    "\n",
    "    no_stopwords = [i for i in  WhitespaceTokenizer().tokenize(text) if i not in stop_words]\n",
    "    \n",
    "    n_lemma = [wnl.lemmatize(i, pos= 'n') for i in  no_stopwords] # nouns Lemmatizations\n",
    "    v_lemma = [wnl.lemmatize(i, pos= 'v') for i in  n_lemma] # verb Lemmatizations\n",
    "    a_lemma = [wnl.lemmatize(i, pos= 'a') for i in  v_lemma] # adjectives Lemmatizations\n",
    "    r_lemma = [wnl.lemmatize(i, pos= 'r') for i in  a_lemma] # adverbs Lemmatizations\n",
    "    s_lemma = [wnl.lemmatize(i, pos= 's') for i in  r_lemma] # satellite adjectives Lemmatization\n",
    "    \n",
    "    # remove punctuation\n",
    "    no_punct = []\n",
    "    \n",
    "    for word in s_lemma:\n",
    "        s = \"\"\n",
    "        for ch in word:\n",
    "            if ch not in set(string.punctuation):\n",
    "                s = f'{s}{ch}'\n",
    "        no_punct.append(s)\n",
    "        \n",
    "    text = \" \".join(no_punct)       \n",
    "    return text\n",
    "\n",
    "#print(f\"An example\\nThe uncleaned tweet: {data['text'].loc[71]}\")\n",
    "#print(f\"The cleaned tweet: {clean_text(data['text'].loc[71])}\")"
   ]
  },
  {
   "cell_type": "code",
   "execution_count": 8,
   "id": "aea8c528-017f-4383-b998-d90bedf82104",
   "metadata": {},
   "outputs": [
    {
     "data": {
      "text/html": [
       "<div>\n",
       "<style scoped>\n",
       "    .dataframe tbody tr th:only-of-type {\n",
       "        vertical-align: middle;\n",
       "    }\n",
       "\n",
       "    .dataframe tbody tr th {\n",
       "        vertical-align: top;\n",
       "    }\n",
       "\n",
       "    .dataframe thead th {\n",
       "        text-align: right;\n",
       "    }\n",
       "</style>\n",
       "<table border=\"1\" class=\"dataframe\">\n",
       "  <thead>\n",
       "    <tr style=\"text-align: right;\">\n",
       "      <th></th>\n",
       "      <th>text</th>\n",
       "      <th>target</th>\n",
       "    </tr>\n",
       "  </thead>\n",
       "  <tbody>\n",
       "    <tr>\n",
       "      <th>1328</th>\n",
       "      <td>burn man ticket vehicle pas full read ebay</td>\n",
       "      <td>0</td>\n",
       "    </tr>\n",
       "    <tr>\n",
       "      <th>6520</th>\n",
       "      <td>help survive zombie apocalypse zombie fun run november th</td>\n",
       "      <td>0</td>\n",
       "    </tr>\n",
       "    <tr>\n",
       "      <th>5359</th>\n",
       "      <td>though panic disco say</td>\n",
       "      <td>0</td>\n",
       "    </tr>\n",
       "    <tr>\n",
       "      <th>747</th>\n",
       "      <td>yo timeline blow damn fast</td>\n",
       "      <td>0</td>\n",
       "    </tr>\n",
       "    <tr>\n",
       "      <th>5959</th>\n",
       "      <td>harshness follow u good day sarah c race think scream siren pace back forth</td>\n",
       "      <td>0</td>\n",
       "    </tr>\n",
       "  </tbody>\n",
       "</table>\n",
       "</div>"
      ],
      "text/plain": [
       "                                                                             text  \\\n",
       "1328                                   burn man ticket vehicle pas full read ebay   \n",
       "6520                    help survive zombie apocalypse zombie fun run november th   \n",
       "5359                                                       though panic disco say   \n",
       "747                                                    yo timeline blow damn fast   \n",
       "5959  harshness follow u good day sarah c race think scream siren pace back forth   \n",
       "\n",
       "      target  \n",
       "1328       0  \n",
       "6520       0  \n",
       "5359       0  \n",
       "747        0  \n",
       "5959       0  "
      ]
     },
     "execution_count": 8,
     "metadata": {},
     "output_type": "execute_result"
    }
   ],
   "source": [
    "cleaned_data = pd.DataFrame()\n",
    "\n",
    "cleaned_data[\"text\"] = df_upsampled[\"text\"].apply(clean_text)\n",
    "\n",
    "cleaned_data[\"target\"] = df_upsampled[\"target\"]\n",
    "cleaned_data.head()"
   ]
  },
  {
   "cell_type": "markdown",
   "id": "f13c2534",
   "metadata": {},
   "source": [
    "# Splitting Data"
   ]
  },
  {
   "cell_type": "code",
   "execution_count": 9,
   "id": "9e2db32c-d687-4f53-a2f0-82677b8c5ed0",
   "metadata": {},
   "outputs": [],
   "source": [
    "from sklearn.feature_extraction.text import TfidfVectorizer\n",
    "from sklearn import model_selection"
   ]
  },
  {
   "cell_type": "code",
   "execution_count": 10,
   "id": "0098d4fc-a2c8-4e7e-861b-c06671e4db40",
   "metadata": {},
   "outputs": [],
   "source": [
    "x_train_data, x_test_data, y_train, y_test = model_selection.train_test_split(cleaned_data[\"text\"], cleaned_data[\"target\"], test_size=0.2, random_state=0)"
   ]
  },
  {
   "cell_type": "markdown",
   "id": "4fb1066e-91c4-41de-a6b4-2f076ffd3038",
   "metadata": {},
   "source": [
    "# Vectorization"
   ]
  },
  {
   "cell_type": "code",
   "execution_count": 11,
   "id": "cbccbfe4-4bbd-47cd-9440-adb382f1d397",
   "metadata": {},
   "outputs": [],
   "source": [
    "vectorisers={\"tf_idf\": TfidfVectorizer(stop_words='english',\n",
    "                                                          analyzer=\"word\",\n",
    "                                                          ngram_range=(1,2),\n",
    "                                                          max_features=None,\n",
    "                                                          min_df=0.0004)}\n",
    "vec = vectorisers[\"tf_idf\"]\n",
    "vec_train = np.array(cleaned_data[\"text\"])\n",
    "vec = vec.fit(np.array(vec_train))\n",
    "\n",
    "x_train = vec.transform(np.array(x_train_data))\n",
    "x_test = vec.transform(np.array(x_test_data))"
   ]
  },
  {
   "cell_type": "code",
   "execution_count": 12,
   "id": "952d26d0-7439-4642-99a4-47ef2c608c24",
   "metadata": {},
   "outputs": [
    {
     "name": "stdout",
     "output_type": "stream",
     "text": [
      "Tweet: update california hwy close direction due lake county fire\n",
      "Vectorised tweet:\n",
      "  (0, 2205)\t1.0\n"
     ]
    }
   ],
   "source": [
    "print(f\"Tweet: {cleaned_data['text'][5]}\")\n",
    "print(f\"Vectorised tweet:\\n{x_train[5]}\")"
   ]
  },
  {
   "cell_type": "markdown",
   "id": "7de0ddc4-9e62-4869-a75a-ee2200b98534",
   "metadata": {},
   "source": [
    "# Accuracy Display"
   ]
  },
  {
   "cell_type": "code",
   "execution_count": 13,
   "id": "1d5f6860-a92a-45c9-a3ce-4b1f89608797",
   "metadata": {},
   "outputs": [],
   "source": [
    "from sklearn.metrics import confusion_matrix, ConfusionMatrixDisplay, accuracy_score\n",
    "\n",
    "def conf_metric(m, y_test, y_pred):\n",
    "    \n",
    "    cm = confusion_matrix(y_test, y_pred, labels=m.classes_)\n",
    "    disp = ConfusionMatrixDisplay(confusion_matrix=cm, display_labels=m.classes_)\n",
    "    disp.plot()\n",
    "    plt.show()\n",
    "    # Model Accuracy: how often is the classifier correct?\n",
    "    print(\"Accuracy:\", f'{round(accuracy_score(y_test, y_pred) * 100, 2)}%')\n"
   ]
  },
  {
   "cell_type": "markdown",
   "id": "d98728af",
   "metadata": {},
   "source": [
    "# Support Vector Machine "
   ]
  },
  {
   "cell_type": "code",
   "execution_count": 14,
   "id": "d6081888-d2e2-41ce-a297-31c210a5b98e",
   "metadata": {},
   "outputs": [
    {
     "data": {
      "image/png": "[encoded data removed]",
      "text/plain": [
       "<Figure size 432x288 with 2 Axes>"
      ]
     },
     "metadata": {
      "needs_background": "light"
     },
     "output_type": "display_data"
    },
    {
     "name": "stdout",
     "output_type": "stream",
     "text": [
      "Accuracy: 79.32%\n"
     ]
    }
   ],
   "source": [
    "#Import svm model\n",
    "from sklearn import svm\n",
    "\n",
    "#Create a svm Classifier\n",
    "clf = svm.SVC(kernel='linear') # Linear Kernel\n",
    "\n",
    "#Train the model using the training sets\n",
    "clf.fit(x_train, y_train)\n",
    "\n",
    "y_pred = clf.predict(x_test)\n",
    "\n",
    "conf_metric(clf, y_test, y_pred)\n"
   ]
  },
  {
   "cell_type": "markdown",
   "id": "68736999",
   "metadata": {},
   "source": [
    "# Multinomial NB\n",
    "* Multinomial Naive Bayes: Feature vectors represent the frequencies with which certain events have been generated by a multinomial distribution. This is the event model typically used for document classification."
   ]
  },
  {
   "cell_type": "code",
   "execution_count": 15,
   "id": "bf26a2d6-4314-44de-99a9-e4a00f475daa",
   "metadata": {},
   "outputs": [
    {
     "data": {
      "image/png": "[encoded data removed]",
      "text/plain": [
       "<Figure size 432x288 with 2 Axes>"
      ]
     },
     "metadata": {
      "needs_background": "light"
     },
     "output_type": "display_data"
    },
    {
     "name": "stdout",
     "output_type": "stream",
     "text": [
      "Accuracy: 80.23%\n",
      "CPU times: total: 125 ms\n",
      "Wall time: 117 ms\n"
     ]
    }
   ],
   "source": [
    "%%time\n",
    "from sklearn.naive_bayes import MultinomialNB\n",
    "myClassifier = MultinomialNB()\n",
    "\n",
    "#Train the model using the training sets\n",
    "myClassifier.fit(x_train, y_train)\n",
    "\n",
    "y_pred = myClassifier.predict(x_test)\n",
    "        \n",
    "conf_metric(myClassifier, y_test, y_pred)\n"
   ]
  },
  {
   "cell_type": "markdown",
   "id": "e7c9903a",
   "metadata": {},
   "source": [
    "# Logisitic Regression"
   ]
  },
  {
   "cell_type": "code",
   "execution_count": 16,
   "id": "94a7da4a",
   "metadata": {},
   "outputs": [
    {
     "data": {
      "image/png": "[encoded data removed]",
      "text/plain": [
       "<Figure size 432x288 with 2 Axes>"
      ]
     },
     "metadata": {
      "needs_background": "light"
     },
     "output_type": "display_data"
    },
    {
     "name": "stdout",
     "output_type": "stream",
     "text": [
      "Accuracy: 79.92%\n",
      "CPU times: total: 516 ms\n",
      "Wall time: 179 ms\n"
     ]
    }
   ],
   "source": [
    "%%time\n",
    "from sklearn.metrics import accuracy_score, confusion_matrix\n",
    "from sklearn.linear_model import LogisticRegression\n",
    "\n",
    "logreg= LogisticRegression()          \n",
    "logreg.fit(x_train, y_train)\n",
    "\n",
    "y_pred = logreg.predict(x_test)\n",
    "conf_metric(logreg, y_test, y_pred)\n",
    " "
   ]
  },
  {
   "cell_type": "markdown",
   "id": "0ea4e880",
   "metadata": {},
   "source": [
    "# Random Forest"
   ]
  },
  {
   "cell_type": "code",
   "execution_count": 17,
   "id": "56d1158d",
   "metadata": {},
   "outputs": [
    {
     "data": {
      "image/png": "[encoded data removed]",
      "text/plain": [
       "<Figure size 432x288 with 2 Axes>"
      ]
     },
     "metadata": {
      "needs_background": "light"
     },
     "output_type": "display_data"
    },
    {
     "name": "stdout",
     "output_type": "stream",
     "text": [
      "Accuracy: 80.08%\n",
      "CPU times: total: 5.12 s\n",
      "Wall time: 5.01 s\n"
     ]
    }
   ],
   "source": [
    "%%time\n",
    "from sklearn.ensemble import RandomForestClassifier\n",
    "\n",
    "RF= RandomForestClassifier()          \n",
    "RF.fit(x_train, y_train)\n",
    "\n",
    "y_pred = RF.predict(x_test)\n",
    "conf_metric(RF, y_test, y_pred)"
   ]
  },
  {
   "cell_type": "markdown",
   "id": "78be72ec-66ba-401e-9434-c50dfa7a698a",
   "metadata": {},
   "source": [
    "# KNN"
   ]
  },
  {
   "cell_type": "code",
   "execution_count": 18,
   "id": "054870ad-b2cc-4d9f-b7cb-25c0a24cd120",
   "metadata": {},
   "outputs": [
    {
     "data": {
      "image/png": "[encoded data removed]",
      "text/plain": [
       "<Figure size 432x288 with 2 Axes>"
      ]
     },
     "metadata": {
      "needs_background": "light"
     },
     "output_type": "display_data"
    },
    {
     "name": "stdout",
     "output_type": "stream",
     "text": [
      "Accuracy: 76.05%\n"
     ]
    }
   ],
   "source": [
    "#import KNN model \n",
    "from sklearn.neighbors import KNeighborsClassifier\n",
    "\n",
    "knn = KNeighborsClassifier(n_neighbors =81, metric = 'cosine', n_jobs=-1)\n",
    "\n",
    "#train to model\n",
    "knn.fit(x_train, y_train)\n",
    "\n",
    "y_pred = knn.predict(x_test)\n",
    "conf_metric(knn, y_test, y_pred)"
   ]
  },
  {
   "cell_type": "markdown",
   "id": "3403ad45-e941-4cd8-9c86-553fb2bb5c73",
   "metadata": {},
   "source": [
    "# Bernoulli Naive Bayes model\n",
    "* Bernoulli Naive Bayes: In the multivariate Bernoulli event model, features are independent booleans (binary variables) describing inputs. Like the multinomial model, this model is popular for document classification tasks, where binary term occurrence(i.e. a word occurs in a document or not) features are used rather than term frequencies(i.e. frequency of a word in the document)."
   ]
  },
  {
   "cell_type": "code",
   "execution_count": 19,
   "id": "f10ad74b-e96f-494f-8563-c02d3f7c092d",
   "metadata": {},
   "outputs": [
    {
     "data": {
      "image/png": "[encoded data removed]",
      "text/plain": [
       "<Figure size 432x288 with 2 Axes>"
      ]
     },
     "metadata": {
      "needs_background": "light"
     },
     "output_type": "display_data"
    },
    {
     "name": "stdout",
     "output_type": "stream",
     "text": [
      "Accuracy: 80.38%\n"
     ]
    }
   ],
   "source": [
    "#import Navie-Bayse model \n",
    "from sklearn.naive_bayes import BernoulliNB\n",
    "bnb = BernoulliNB()\n",
    "bnb.fit(x_train, y_train)\n",
    "\n",
    "y_pred = bnb.predict(x_test)\n",
    "conf_metric(bnb, y_test, y_pred)"
   ]
  },
  {
   "cell_type": "markdown",
   "id": "f60aab03",
   "metadata": {},
   "source": [
    "# Combination"
   ]
  },
  {
   "cell_type": "code",
   "execution_count": 20,
   "id": "346c052e-a3f9-405b-9133-0ea47fbbfbd4",
   "metadata": {},
   "outputs": [],
   "source": [
    "all_classifiers = list()\n",
    "\n",
    "all_classifiers.append(clf)\n",
    "all_classifiers.append(myClassifier)\n",
    "all_classifiers.append(logreg)\n",
    "all_classifiers.append(RF)\n",
    "all_classifiers.append(knn)\n",
    "all_classifiers.append(bnb)"
   ]
  },
  {
   "cell_type": "code",
   "execution_count": 21,
   "id": "3749c435",
   "metadata": {},
   "outputs": [],
   "source": [
    "def compination(tweet,all_classifiers):\n",
    "    if type(tweet)!=type(x_train):\n",
    "        tweet = vec.transform(np.array(tweet))\n",
    "        \n",
    "    counter_list = [0, 0]\n",
    "    \n",
    "    for i in range(len(all_classifiers)):\n",
    "        \n",
    "        p = all_classifiers[i].predict(tweet)\n",
    "\n",
    "        if p[0] == 0:\n",
    "            counter_list[0]+=1\n",
    "        else:\n",
    "            counter_list[1]+=1\n",
    "            \n",
    "    if counter_list[0] > counter_list[1]:\n",
    "        return 0\n",
    "    \n",
    "    elif counter_list[0] < counter_list[1]:\n",
    "        return 1\n",
    "\n",
    "    else:\n",
    "        n = np.random.randint(0, len(all_classifiers))\n",
    "        t = all_classifiers[n].predict(tweet)\n",
    "        return t[0]"
   ]
  },
  {
   "cell_type": "code",
   "execution_count": 22,
   "id": "11d00527",
   "metadata": {},
   "outputs": [],
   "source": [
    "def compination_list(tweet, x_test_rar, all_classifiers):\n",
    "    def tras(t):\n",
    "        if t == 0:\n",
    "            return \"Not Disaster\"\n",
    "        return \"Disaster\"\n",
    "    \n",
    "    y_pre = list()\n",
    "    countT = []\n",
    "    countF = []\n",
    "\n",
    "    if type(tweet) != type(x_train):\n",
    "        tweet = vec.transform(np.array(tweet))\n",
    "        \n",
    "    for i in tweet:\n",
    "        y_pre.append(compination(i, all_classifiers))\n",
    "        \n",
    "    print(\"Accuracy:\", f'{round(accuracy_score(y_test, y_pre) * 100, 2)}%')\n",
    "\n",
    "    t = pd.DataFrame({\n",
    "            \"tweet\" : x_test_rar,\n",
    "            \"True\" : y_test,\n",
    "            \"predict\" : y_pre \n",
    "            })\n",
    "    t['True'] = t['True'].apply(tras)\n",
    "    t['predict'] = t['predict'].apply(tras)    \n",
    "    return t"
   ]
  },
  {
   "cell_type": "code",
   "execution_count": 23,
   "id": "21a73207",
   "metadata": {},
   "outputs": [
    {
     "name": "stdout",
     "output_type": "stream",
     "text": [
      "Accuracy: 80.84%\n"
     ]
    }
   ],
   "source": [
    "a = compination_list(x_test, x_test_data, all_classifiers)"
   ]
  },
  {
   "cell_type": "code",
   "execution_count": 24,
   "id": "50cd0a56",
   "metadata": {},
   "outputs": [
    {
     "data": {
      "text/html": [
       "<div>\n",
       "<style scoped>\n",
       "    .dataframe tbody tr th:only-of-type {\n",
       "        vertical-align: middle;\n",
       "    }\n",
       "\n",
       "    .dataframe tbody tr th {\n",
       "        vertical-align: top;\n",
       "    }\n",
       "\n",
       "    .dataframe thead th {\n",
       "        text-align: right;\n",
       "    }\n",
       "</style>\n",
       "<table border=\"1\" class=\"dataframe\">\n",
       "  <thead>\n",
       "    <tr style=\"text-align: right;\">\n",
       "      <th></th>\n",
       "      <th>tweet</th>\n",
       "      <th>True</th>\n",
       "      <th>predict</th>\n",
       "    </tr>\n",
       "  </thead>\n",
       "  <tbody>\n",
       "    <tr>\n",
       "      <th>4303</th>\n",
       "      <td>beware temper loose tongue two dangerous weapon combine lead person hellfire</td>\n",
       "      <td>Not Disaster</td>\n",
       "      <td>Not Disaster</td>\n",
       "    </tr>\n",
       "    <tr>\n",
       "      <th>3152</th>\n",
       "      <td>myanmar flood childfund international need care aust appeal</td>\n",
       "      <td>Disaster</td>\n",
       "      <td>Disaster</td>\n",
       "    </tr>\n",
       "    <tr>\n",
       "      <th>6542</th>\n",
       "      <td>whether pressure non wud survive even thalapathi release</td>\n",
       "      <td>Disaster</td>\n",
       "      <td>Not Disaster</td>\n",
       "    </tr>\n",
       "    <tr>\n",
       "      <th>4061</th>\n",
       "      <td>pharrell prevent forest fire</td>\n",
       "      <td>Not Disaster</td>\n",
       "      <td>Not Disaster</td>\n",
       "    </tr>\n",
       "    <tr>\n",
       "      <th>6111</th>\n",
       "      <td>sink slipper put boot</td>\n",
       "      <td>Not Disaster</td>\n",
       "      <td>Not Disaster</td>\n",
       "    </tr>\n",
       "  </tbody>\n",
       "</table>\n",
       "</div>"
      ],
      "text/plain": [
       "                                                                             tweet  \\\n",
       "4303  beware temper loose tongue two dangerous weapon combine lead person hellfire   \n",
       "3152                   myanmar flood childfund international need care aust appeal   \n",
       "6542                      whether pressure non wud survive even thalapathi release   \n",
       "4061                                                  pharrell prevent forest fire   \n",
       "6111                                                         sink slipper put boot   \n",
       "\n",
       "              True       predict  \n",
       "4303  Not Disaster  Not Disaster  \n",
       "3152      Disaster      Disaster  \n",
       "6542      Disaster  Not Disaster  \n",
       "4061  Not Disaster  Not Disaster  \n",
       "6111  Not Disaster  Not Disaster  "
      ]
     },
     "execution_count": 24,
     "metadata": {},
     "output_type": "execute_result"
    }
   ],
   "source": [
    "a.head()"
   ]
  }
 ],
 "metadata": {
  "kernelspec": {
   "display_name": "Python 3 (ipykernel)",
   "language": "python",
   "name": "python3"
  },
  "language_info": {
   "codemirror_mode": {
    "name": "ipython",
    "version": 3
   },
   "file_extension": ".py",
   "mimetype": "text/x-python",
   "name": "python",
   "nbconvert_exporter": "python",
   "pygments_lexer": "ipython3",
   "version": "3.9.12"
  },
  "papermill": {
   "default_parameters": {},
   "duration": 347.736659,
   "end_time": "2022-05-05T15:14:35.403343",
   "environment_variables": {},
   "exception": null,
   "input_path": "__notebook__.ipynb",
   "output_path": "__notebook__.ipynb",
   "parameters": {},
   "start_time": "2022-05-05T15:08:47.666684",
   "version": "2.3.4"
  }
 },
 "nbformat": 4,
 "nbformat_minor": 5
}
